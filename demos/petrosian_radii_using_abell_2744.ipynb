{
 "cells": [
  {
   "cell_type": "markdown",
   "id": "underlying-slovenia",
   "metadata": {},
   "source": [
    "# PetroFit Demo: Petrosian Radii Using Abell 2744"
   ]
  },
  {
   "cell_type": "code",
   "execution_count": null,
   "id": "modified-league",
   "metadata": {},
   "outputs": [],
   "source": [
    "import warnings\n",
    "import numpy as np\n",
    "from copy import copy\n",
    "\n",
    "from astropy.nddata import CCDData, Cutout2D\n",
    "from astropy.stats import sigma_clipped_stats, sigma_clip\n",
    "from astropy.utils.exceptions import AstropyWarning\n",
    "from astropy.modeling import models\n",
    "\n",
    "from photutils.segmentation import SourceCatalog "
   ]
  },
  {
   "cell_type": "code",
   "execution_count": null,
   "id": "christian-former",
   "metadata": {},
   "outputs": [],
   "source": [
    "from petrofit.segmentation import make_catalog, plot_segments\n",
    "from petrofit.photometry import source_photometry, order_cat\n",
    "from petrofit.petrosian import Petrosian"
   ]
  },
  {
   "cell_type": "code",
   "execution_count": null,
   "id": "destroyed-borough",
   "metadata": {},
   "outputs": [],
   "source": [
    "%matplotlib inline\n",
    "from matplotlib import pyplot as plt\n",
    "from matplotlib import gridspec\n",
    "from matplotlib import cm\n",
    "\n",
    "plt.rcParams['figure.figsize'] = [12, 12]\n",
    "plt.rcParams['image.origin'] = 'lower'"
   ]
  },
  {
   "cell_type": "code",
   "execution_count": null,
   "id": "several-jewelry",
   "metadata": {},
   "outputs": [],
   "source": [
    "import ipywidgets as widgets\n",
    "from IPython.display import display\n",
    "\n",
    "DISPLAY_STYLE = {'description_width': 'initial'}"
   ]
  },
  {
   "cell_type": "markdown",
   "id": "liable-monroe",
   "metadata": {},
   "source": [
    "# Load Data"
   ]
  },
  {
   "cell_type": "code",
   "execution_count": null,
   "id": "baking-spice",
   "metadata": {},
   "outputs": [],
   "source": [
    "acs_filter_list = ['f435w', 'f606w', 'f814w']\n",
    "wfc3_filter_list = ['f105w', 'f125w', 'f140w', 'f160w']\n",
    "\n",
    "input_data_formatter = \"https://archive.stsci.edu/pub/hlsp/frontier/abell2744/images/hst/v1.0/hlsp_frontier_hst_{}-60mas_abell2744_{}_v1.0_drz.fits\""
   ]
  },
  {
   "cell_type": "code",
   "execution_count": null,
   "id": "raising-sewing",
   "metadata": {},
   "outputs": [],
   "source": [
    "data_paths = {}\n",
    "for f in acs_filter_list:\n",
    "    data_paths[f] = input_data_formatter.format('acs', f)\n",
    "    \n",
    "for f in wfc3_filter_list:\n",
    "    data_paths[f] = input_data_formatter.format('wfc3', f)\n",
    "    \n",
    "petrosian_cat_collection = {}"
   ]
  },
  {
   "cell_type": "code",
   "execution_count": null,
   "id": "caring-mistress",
   "metadata": {},
   "outputs": [],
   "source": [
    "# Load data and vitals\n",
    "# ---------------------\n",
    "\n",
    "current_filter = 'f105w'\n",
    "input_data_path = data_paths[current_filter]\n",
    "#input_data_path = 'combined_data.fits'\n",
    "data = CCDData.read(input_data_path, cache=True)\n",
    "\n",
    "plt.imshow(data, vmin=0, vmax=data.data.std())"
   ]
  },
  {
   "cell_type": "markdown",
   "id": "quiet-click",
   "metadata": {},
   "source": [
    "### Estimate data noise at dark area"
   ]
  },
  {
   "cell_type": "code",
   "execution_count": null,
   "id": "accredited-outline",
   "metadata": {},
   "outputs": [],
   "source": [
    "# Estimate data noise at dark area\n",
    "# --------------------------------\n",
    "noise_cutout = Cutout2D(data, (2760, 3420), 70)\n",
    "\n",
    "noise_mean = noise_cutout.data.mean()\n",
    "noise_sigma = noise_cutout.data.std()\n",
    "noise_3_sigma = noise_sigma * 3.\n",
    "noise_8_sigma = noise_sigma * 8.\n",
    "\n",
    "print(noise_mean, noise_3_sigma, noise_8_sigma)\n",
    "\n",
    "plt.imshow(noise_cutout.data, vmax=noise_mean+noise_3_sigma, vmin=noise_mean-noise_3_sigma)\n",
    "plt.show()\n",
    "\n",
    "n, bins, patches = plt.hist(noise_cutout.data.flatten(), bins=35, align='left', color='black')\n",
    "plt.plot(bins[:-1], n, c='r', linewidth=3)\n",
    "\n",
    "plt.xlabel('Flux Bins [{}]'.format(str(data.unit)))\n",
    "plt.ylabel('Count')\n",
    "plt.title('Noise Histogram')\n",
    "plt.show()"
   ]
  },
  {
   "cell_type": "markdown",
   "id": "romance-weapon",
   "metadata": {},
   "source": [
    "# Target Image "
   ]
  },
  {
   "cell_type": "code",
   "execution_count": null,
   "id": "approximate-turkish",
   "metadata": {},
   "outputs": [],
   "source": [
    "# Cutout Image\n",
    "# -------------\n",
    "\n",
    "# Select and crop image:\n",
    "\n",
    "cx, cy, size = 2083, 2859, 400 # Lone CD galaxy\n",
    "\n",
    "image = Cutout2D(data, (cx, cy), size, copy=True)\n",
    "\n",
    "# Compute image stats\n",
    "image_min = image.data.min()\n",
    "image_max = image.data.max()\n",
    "image_mean = image.data.mean()\n",
    "image_sigma = image.data.std()\n",
    "image_3_sigma = image_sigma * 3.\n",
    "image_8_sigma = image_sigma * 8.\n",
    "\n",
    "image_clipped_mean, image_clipped_median, image_clipped_std = sigma_clipped_stats(image.data, sigma=3.0)\n",
    "\n",
    "# Subtract Noise\n",
    "#image.data  -= image_clipped_mean\n",
    "\n",
    "# Set min and max values for all plots\n",
    "vmin = -5 * image_clipped_std\n",
    "vmax = +5 * image_clipped_std\n",
    "\n",
    "plt.imshow(image.data, vmin=vmin, vmax=vmax)\n",
    "\n",
    "print(image_mean)"
   ]
  },
  {
   "cell_type": "markdown",
   "id": "rental-victoria",
   "metadata": {},
   "source": [
    "# Segmentation (ID Target)"
   ]
  },
  {
   "cell_type": "code",
   "execution_count": null,
   "id": "specified-question",
   "metadata": {},
   "outputs": [],
   "source": [
    "# Define detect threshold\n",
    "threshold = noise_8_sigma\n",
    "\n",
    "# Define smoothing kernel\n",
    "kernel_size = 5\n",
    "fwhm = 5\n",
    "npixels = 5**2\n",
    "\n",
    "\n",
    "cat, segm, segm_deblend = make_catalog(\n",
    "    image.data,\n",
    "    threshold,\n",
    "    deblend=True,\n",
    "    kernel_size=kernel_size,\n",
    "    fwhm=fwhm,\n",
    "    npixels=npixels,\n",
    "    plot=True, vmax=vmax, vmin=vmin\n",
    ")"
   ]
  },
  {
   "cell_type": "code",
   "execution_count": null,
   "id": "excited-virtue",
   "metadata": {},
   "outputs": [],
   "source": [
    "result_cat = cat.to_table()\n",
    "result_cat.sort(keys=\"area\", reverse=1)"
   ]
  },
  {
   "cell_type": "markdown",
   "id": "capable-webster",
   "metadata": {},
   "source": [
    "# Measure Photometry on Largest Object"
   ]
  },
  {
   "cell_type": "markdown",
   "id": "hungry-rubber",
   "metadata": {},
   "source": [
    "We define the radii for Photometry"
   ]
  },
  {
   "cell_type": "code",
   "execution_count": null,
   "id": "suited-diversity",
   "metadata": {},
   "outputs": [],
   "source": [
    "# Define Radii\n",
    "# ------------\n",
    "# Define max rad in pixels and number of apertures\n",
    "max_pix = 200\n",
    "n = int(max_pix)//2\n",
    "\n",
    "# Create list of radii\n",
    "r_list = [x * int(max_pix / n) for x in range(1, n+1)]\n",
    "r_list = np.array(r_list)\n",
    "\n",
    "print(\"max_pix = {} pix\".format(max_pix))\n",
    "print(\"n = {}\".format(n))\n",
    "print(\"len(r_list) = {}\".format(len(r_list)))"
   ]
  },
  {
   "cell_type": "code",
   "execution_count": null,
   "id": "equivalent-lebanon",
   "metadata": {},
   "outputs": [],
   "source": [
    "# Sort and get the largest object in the catalog\n",
    "idx = order_cat(cat)[0]  # index 0 is largest \n",
    "obj = cat[idx]  # get object (source) from the catalog \n",
    "\n",
    "# Photomerty \n",
    "flux_arr, area_arr, error_arr = source_photometry(\n",
    "    obj, image.data, segm_deblend, r_list, \n",
    "    bkg_sub=True, sigma=1, sigma_type='clip',\n",
    "    plot=True, vmax=vmax, vmin=vmin, \n",
    "    mask_background=False,\n",
    "    cutout_size=max_pix, \n",
    ")\n",
    "plt.show()"
   ]
  },
  {
   "cell_type": "markdown",
   "id": "invisible-detective",
   "metadata": {},
   "source": [
    "i.e this example does not set the cutout size automatically, if you would like to see a smaller object, decrease the `max_pix` var in the radii generation cell."
   ]
  },
  {
   "cell_type": "markdown",
   "id": "smooth-faith",
   "metadata": {},
   "source": [
    "# Petrosian"
   ]
  },
  {
   "cell_type": "markdown",
   "id": "passive-situation",
   "metadata": {},
   "source": [
    "### Construct Petrosian from Photometry"
   ]
  },
  {
   "cell_type": "code",
   "execution_count": null,
   "id": "oriental-speech",
   "metadata": {},
   "outputs": [],
   "source": [
    "p = Petrosian(r_list, area_arr, flux_arr)"
   ]
  },
  {
   "cell_type": "markdown",
   "id": "empty-ocean",
   "metadata": {},
   "source": [
    "### Petrosian radius"
   ]
  },
  {
   "cell_type": "code",
   "execution_count": null,
   "id": "north-toner",
   "metadata": {},
   "outputs": [],
   "source": [
    "p.r_petrosian # in pixels"
   ]
  },
  {
   "cell_type": "markdown",
   "id": "killing-calibration",
   "metadata": {},
   "source": [
    "### Petrosian total flux radius"
   ]
  },
  {
   "cell_type": "code",
   "execution_count": null,
   "id": "dependent-honey",
   "metadata": {},
   "outputs": [],
   "source": [
    "p.r_total_flux # pixels"
   ]
  },
  {
   "cell_type": "code",
   "execution_count": null,
   "id": "democratic-science",
   "metadata": {},
   "outputs": [],
   "source": [
    "p.r_total_flux_arcsec(image.wcs) # arcsec"
   ]
  },
  {
   "cell_type": "markdown",
   "id": "activated-cameroon",
   "metadata": {},
   "source": [
    "### Petrosian half light radius"
   ]
  },
  {
   "cell_type": "code",
   "execution_count": null,
   "id": "clinical-society",
   "metadata": {},
   "outputs": [],
   "source": [
    "p.r_half_light # pixels"
   ]
  },
  {
   "cell_type": "code",
   "execution_count": null,
   "id": "insured-bible",
   "metadata": {},
   "outputs": [],
   "source": [
    "p.r_half_light_arcsec(image.wcs) # arcsec"
   ]
  },
  {
   "cell_type": "markdown",
   "id": "physical-photography",
   "metadata": {},
   "source": [
    "### Concentration Index"
   ]
  },
  {
   "cell_type": "code",
   "execution_count": null,
   "id": "robust-roots",
   "metadata": {},
   "outputs": [],
   "source": [
    "r_20, r_80, c2080 = p.concentration_index()  # defualt c2080\n",
    "\n",
    "r_20, r_80, c2080"
   ]
  },
  {
   "cell_type": "code",
   "execution_count": null,
   "id": "thick-insulation",
   "metadata": {},
   "outputs": [],
   "source": [
    "r_50, r_90, c5090 = p.concentration_index(fraction_1=0.5, fraction_2=0.9)  # defualt c2080\n",
    "\n",
    "r_50, r_90, c5090"
   ]
  },
  {
   "cell_type": "markdown",
   "id": "burning-compensation",
   "metadata": {},
   "source": [
    "### Plot"
   ]
  },
  {
   "cell_type": "code",
   "execution_count": null,
   "id": "genuine-animal",
   "metadata": {
    "scrolled": false
   },
   "outputs": [],
   "source": [
    "p.plot()"
   ]
  },
  {
   "cell_type": "code",
   "execution_count": null,
   "id": "working-liverpool",
   "metadata": {},
   "outputs": [],
   "source": [
    "# Plot with radii \n",
    "p.plot(plot_r=True)"
   ]
  },
  {
   "cell_type": "code",
   "execution_count": null,
   "id": "earlier-proceeding",
   "metadata": {},
   "outputs": [],
   "source": [
    "# Plot with radii and overplot normalized flux curve of growth\n",
    "p.plot(plot_r=True, plot_normalized_flux=True)"
   ]
  },
  {
   "cell_type": "markdown",
   "id": "rural-fever",
   "metadata": {},
   "source": [
    "### Change eta and epsilon"
   ]
  },
  {
   "cell_type": "markdown",
   "id": "enclosed-blast",
   "metadata": {},
   "source": [
    "epsilon : float\n",
    "\n",
    "    Epsilon value (used to determine `r_total_flux`).\n",
    "\n",
    "    N.B: `r_total_flux` = `r_petrosian` * `epsilon`\n",
    "\n",
    "eta : float, default=0.2\n",
    "\n",
    "    Eta is the petrosian value which defines the `r_petrosian`."
   ]
  },
  {
   "cell_type": "code",
   "execution_count": null,
   "id": "induced-component",
   "metadata": {},
   "outputs": [],
   "source": [
    "print('eta =', p.eta)\n",
    "print('epsilon =', p.epsilon)\n",
    "print('r_half_light =', p.r_half_light)\n",
    "print('r_total_flux =', p.r_total_flux)\n",
    "\n",
    "p.plot(plot_r=True)"
   ]
  },
  {
   "cell_type": "code",
   "execution_count": null,
   "id": "respiratory-actor",
   "metadata": {
    "scrolled": false
   },
   "outputs": [],
   "source": [
    "p_copy = copy(p)\n",
    "p_copy.eta = 0.3\n",
    "p_copy.epsilon = 3\n",
    "\n",
    "print('eta =', p_copy.eta)\n",
    "print('epsilon =', p_copy.epsilon)\n",
    "print('r_half_light =', p_copy.r_half_light)\n",
    "print('r_total_flux =', p_copy.r_total_flux)\n",
    "\n",
    "p_copy.plot(plot_r=True)"
   ]
  }
 ],
 "metadata": {
  "kernelspec": {
   "display_name": "Python 3",
   "language": "python",
   "name": "python3"
  },
  "language_info": {
   "codemirror_mode": {
    "name": "ipython",
    "version": 3
   },
   "file_extension": ".py",
   "mimetype": "text/x-python",
   "name": "python",
   "nbconvert_exporter": "python",
   "pygments_lexer": "ipython3",
   "version": "3.9.2"
  }
 },
 "nbformat": 4,
 "nbformat_minor": 5
}
