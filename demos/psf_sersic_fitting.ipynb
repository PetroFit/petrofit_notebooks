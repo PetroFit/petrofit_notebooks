{
 "cells": [
  {
   "cell_type": "markdown",
   "id": "underlying-slovenia",
   "metadata": {},
   "source": [
    "# PetroFit Demo: PSF Sersic Fitting using Abell 2744"
   ]
  },
  {
   "cell_type": "code",
   "execution_count": null,
   "id": "modified-league",
   "metadata": {},
   "outputs": [],
   "source": [
    "import warnings\n",
    "import numpy as np\n",
    "\n",
    "from astropy.nddata import CCDData, Cutout2D\n",
    "from astropy.stats import sigma_clipped_stats, sigma_clip\n",
    "from astropy.utils.exceptions import AstropyWarning\n",
    "from astropy.modeling import models\n",
    "\n",
    "from photutils.segmentation import SourceCatalog "
   ]
  },
  {
   "cell_type": "code",
   "execution_count": null,
   "id": "christian-former",
   "metadata": {},
   "outputs": [],
   "source": [
    "from petrofit.segmentation import make_catalog, plot_segments\n",
    "from petrofit.segmentation import make_segments, deblend_segments, plot_segments, get_source_position, masked_segm_image, get_source_ellip, get_source_theta\n",
    "from petrofit.models import PSFConvolvedImageModel\n",
    "from petrofit.fitting import model_to_image, fit_model, plot_fit, print_model_params"
   ]
  },
  {
   "cell_type": "code",
   "execution_count": null,
   "id": "destroyed-borough",
   "metadata": {},
   "outputs": [],
   "source": [
    "%matplotlib inline\n",
    "from matplotlib import pyplot as plt\n",
    "from matplotlib import gridspec\n",
    "from matplotlib import cm\n",
    "\n",
    "plt.rcParams['figure.figsize'] = [12, 12]\n",
    "plt.rcParams['image.origin'] = 'lower'"
   ]
  },
  {
   "cell_type": "code",
   "execution_count": null,
   "id": "several-jewelry",
   "metadata": {},
   "outputs": [],
   "source": [
    "import ipywidgets as widgets\n",
    "from IPython.display import display\n",
    "\n",
    "DISPLAY_STYLE = {'description_width': 'initial'}"
   ]
  },
  {
   "cell_type": "markdown",
   "id": "liable-monroe",
   "metadata": {},
   "source": [
    "# Load Data"
   ]
  },
  {
   "cell_type": "code",
   "execution_count": null,
   "id": "baking-spice",
   "metadata": {},
   "outputs": [],
   "source": [
    "acs_filter_list = ['f435w', 'f606w', 'f814w']\n",
    "wfc3_filter_list = ['f105w', 'f125w', 'f140w', 'f160w']\n",
    "\n",
    "input_data_formatter = \"https://archive.stsci.edu/pub/hlsp/frontier/abell2744/images/hst/v1.0/hlsp_frontier_hst_{}-60mas_abell2744_{}_v1.0_drz.fits\""
   ]
  },
  {
   "cell_type": "code",
   "execution_count": null,
   "id": "raising-sewing",
   "metadata": {},
   "outputs": [],
   "source": [
    "data_paths = {}\n",
    "for f in acs_filter_list:\n",
    "    data_paths[f] = input_data_formatter.format('acs', f)\n",
    "    \n",
    "for f in wfc3_filter_list:\n",
    "    data_paths[f] = input_data_formatter.format('wfc3', f)\n",
    "    \n",
    "petrosian_cat_collection = {}"
   ]
  },
  {
   "cell_type": "code",
   "execution_count": null,
   "id": "caring-mistress",
   "metadata": {},
   "outputs": [],
   "source": [
    "# Load data and vitals\n",
    "# ---------------------\n",
    "\n",
    "current_filter = 'f606w'\n",
    "input_data_path = data_paths[current_filter]\n",
    "#input_data_path = 'combined_data.fits'\n",
    "data = CCDData.read(input_data_path, cache=True)\n",
    "\n",
    "plt.imshow(data, vmin=0, vmax=data.data.std())"
   ]
  },
  {
   "cell_type": "markdown",
   "id": "quiet-click",
   "metadata": {},
   "source": [
    "### Estimate data noise at dark area"
   ]
  },
  {
   "cell_type": "code",
   "execution_count": null,
   "id": "accredited-outline",
   "metadata": {},
   "outputs": [],
   "source": [
    "# Estimate data noise at dark area\n",
    "# --------------------------------\n",
    "noise_cutout = Cutout2D(data, (2760, 3420), 70)\n",
    "\n",
    "noise_mean = noise_cutout.data.mean()\n",
    "noise_sigma = noise_cutout.data.std()\n",
    "noise_3_sigma = noise_sigma * 3.\n",
    "noise_8_sigma = noise_sigma * 8.\n",
    "\n",
    "print(noise_mean, noise_3_sigma, noise_8_sigma)\n",
    "\n",
    "plt.imshow(noise_cutout.data, vmax=noise_mean+noise_3_sigma, vmin=noise_mean-noise_3_sigma)\n",
    "plt.show()\n",
    "\n",
    "n, bins, patches = plt.hist(noise_cutout.data.flatten(), bins=35, align='left', color='black')\n",
    "plt.plot(bins[:-1], n, c='r', linewidth=3)\n",
    "\n",
    "plt.xlabel('Flux Bins [{}]'.format(str(data.unit)))\n",
    "plt.ylabel('Count')\n",
    "plt.title('Noise Histogram')\n",
    "plt.show()"
   ]
  },
  {
   "cell_type": "markdown",
   "id": "grand-music",
   "metadata": {},
   "source": [
    "# PSF"
   ]
  },
  {
   "cell_type": "code",
   "execution_count": null,
   "id": "illegal-substitute",
   "metadata": {},
   "outputs": [],
   "source": [
    "PSF = Cutout2D(data, (6759//2, 4102//2), 50+1).data\n",
    "\n",
    "PSF = PSF / PSF.sum()\n",
    "\n",
    "PSF_std = PSF.std()\n",
    "\n",
    "print(PSF.min(), PSF.max(), PSF.mean())\n",
    "\n",
    "plt.imshow(PSF, vmin=0, vmax=PSF_std/10)"
   ]
  },
  {
   "cell_type": "markdown",
   "id": "romance-weapon",
   "metadata": {},
   "source": [
    "# Target Image "
   ]
  },
  {
   "cell_type": "code",
   "execution_count": null,
   "id": "approximate-turkish",
   "metadata": {},
   "outputs": [],
   "source": [
    "# Cutout Image\n",
    "# -------------\n",
    "\n",
    "# Select and crop image:\n",
    "\n",
    "cx, cy, size = 2083, 2859, 400 # Lone CD galaxy\n",
    "\n",
    "image = Cutout2D(data, (cx, cy), size, copy=True)\n",
    "\n",
    "# Compute image stats\n",
    "image_min = image.data.min()\n",
    "image_max = image.data.max()\n",
    "image_mean = image.data.mean()\n",
    "image_sigma = image.data.std()\n",
    "image_3_sigma = image_sigma * 3.\n",
    "image_8_sigma = image_sigma * 8.\n",
    "\n",
    "image_clipped_mean, image_clipped_median, image_clipped_std = sigma_clipped_stats(image.data, sigma=3.0)\n",
    "\n",
    "# Subtract Noise\n",
    "#image.data  -= image_clipped_mean\n",
    "\n",
    "# Set min and max values for all plots\n",
    "vmin = -5 * image_clipped_std\n",
    "vmax = +5 * image_clipped_std\n",
    "\n",
    "plt.imshow(image.data, vmin=vmin, vmax=vmax)\n",
    "\n",
    "print(image_mean)"
   ]
  },
  {
   "cell_type": "markdown",
   "id": "rental-victoria",
   "metadata": {},
   "source": [
    "# Segmentation (ID Target)"
   ]
  },
  {
   "cell_type": "code",
   "execution_count": null,
   "id": "specified-question",
   "metadata": {},
   "outputs": [],
   "source": [
    "# Catalog\n",
    "# -------\n",
    "\n",
    "# Define detect threshold\n",
    "threshold = noise_8_sigma\n",
    "\n",
    "# Define smoothing kernel\n",
    "kernel_size = 5\n",
    "fwhm = 5\n",
    "npixels = 5**2\n",
    "\n",
    "\n",
    "cat, segm, segm_deblend = make_catalog(\n",
    "    image.data,\n",
    "    threshold,\n",
    "    deblend=True,\n",
    "    kernel_size=kernel_size,\n",
    "    fwhm=fwhm,\n",
    "    npixels=npixels,\n",
    "    plot=True, vmax=vmax, vmin=vmin\n",
    ")"
   ]
  },
  {
   "cell_type": "code",
   "execution_count": null,
   "id": "excited-virtue",
   "metadata": {},
   "outputs": [],
   "source": [
    "result_cat = cat.to_table(cat.default_columns + ['maxval_xindex', 'maxval_yindex', 'ellipticity'] )\n",
    "result_cat.sort(keys=\"area\", reverse=1)"
   ]
  },
  {
   "cell_type": "markdown",
   "id": "capable-webster",
   "metadata": {},
   "source": [
    "# Cutout Target and Zoom"
   ]
  },
  {
   "cell_type": "code",
   "execution_count": null,
   "id": "small-force",
   "metadata": {
    "scrolled": false
   },
   "outputs": [],
   "source": [
    "targ_idx = 0\n",
    "mid = 150#\n",
    "cutout_size = mid *2\n",
    "row = result_cat[targ_idx]\n",
    "\n",
    "x, y = [i for i in get_source_position(row)]\n",
    "\n",
    "# Estimate mean in coutuout\n",
    "target_zoom_nan_image = masked_segm_image(row['label'], image, segm_deblend, fill=np.nan, mask_background=False)\n",
    "target_zoom_nan_image = Cutout2D(target_zoom_nan_image.data, (x, y), cutout_size, mode='partial', fill_value=np.nan)\n",
    "mean, median, std = sigma_clipped_stats(target_zoom_nan_image.data, sigma=1.0, \n",
    "                                        mask=np.isnan(target_zoom_nan_image.data) \n",
    "                                       )\n",
    "\n",
    "\n",
    "# Make coutuout\n",
    "target_zoom = target_zoom_nan_image.data #- median \n",
    "\n",
    "target_zoom_raw_image = Cutout2D(image.data, (x, y), cutout_size, mode='partial', fill_value=np.nan, copy=True).data\n",
    "\n",
    "masked_stats_image = target_zoom_nan_image.data\n",
    "masked_image = target_zoom\n",
    "sigma = 1\n",
    "sigma_type = 'clip'\n",
    "\n",
    "plt.imshow(target_zoom, vmin=vmin, vmax=vmax)"
   ]
  },
  {
   "cell_type": "markdown",
   "id": "sweet-alfred",
   "metadata": {},
   "source": [
    "# AstroPy Model (No PSF)"
   ]
  },
  {
   "cell_type": "code",
   "execution_count": null,
   "id": "interim-october",
   "metadata": {},
   "outputs": [],
   "source": [
    "d = 5\n",
    "\n",
    "sersic_model = models.Sersic2D(\n",
    "        amplitude=1,\n",
    "        r_eff=25,\n",
    "        n=3.7,\n",
    "        x_0=mid,\n",
    "        y_0=mid,\n",
    "        ellip=get_source_ellip(row), \n",
    "        theta=get_source_theta(row),\n",
    "        bounds = {\n",
    "            'amplitude': (0., None),\n",
    "            'r_eff': (0, None),\n",
    "            'n': (0, 10),\n",
    "            'ellip': (0, 1),\n",
    "            'theta': (-2*np.pi, 2*np.pi),\n",
    "            'x_0': (mid-d, mid+d),\n",
    "            'y_0': (mid-d, mid+d),\n",
    "        },\n",
    ")\n"
   ]
  },
  {
   "cell_type": "markdown",
   "id": "corrected-license",
   "metadata": {},
   "source": [
    "### Fit AstroPy Model"
   ]
  },
  {
   "cell_type": "code",
   "execution_count": null,
   "id": "impressive-respondent",
   "metadata": {},
   "outputs": [],
   "source": [
    "fitted_model, _ = fit_model(\n",
    "    target_zoom, sersic_model,\n",
    "    maxiter=10000,\n",
    "    epsilon=1.4901161193847656e-08,\n",
    "    acc=1e-09,\n",
    ")\n",
    "\n",
    "fitted_model_image = model_to_image(fitted_model, size=mid*2)\n",
    "\n",
    "plt.imshow(target_zoom_raw_image-fitted_model_image, vmax=vmax, vmin=vmin)\n",
    "plt.title(\"model_psf_image\")\n",
    "plt.show()\n"
   ]
  },
  {
   "cell_type": "code",
   "execution_count": null,
   "id": "processed-material",
   "metadata": {},
   "outputs": [],
   "source": [
    "plot_fit(target_zoom_raw_image, fitted_model, vmax=vmax, vmin=vmin);"
   ]
  },
  {
   "cell_type": "markdown",
   "id": "silver-animal",
   "metadata": {},
   "source": [
    "# PetroFit PSFConvolvedImageModel "
   ]
  },
  {
   "cell_type": "markdown",
   "id": "right-phenomenon",
   "metadata": {},
   "source": [
    "Wrap the fitted AstroPy model from the last step and add oversampling if needed. Oversampling of 2-4 is more than enough for an image 100 pix+."
   ]
  },
  {
   "cell_type": "code",
   "execution_count": null,
   "id": "figured-joyce",
   "metadata": {},
   "outputs": [],
   "source": [
    "psf_model = PSFConvolvedImageModel(fitted_model, psf=PSF, oversample=2)\n",
    "\n",
    "# PSF rotation \n",
    "psf_model.bounds['psf_pa'] = (-5, 5)\n",
    "psf_model.fixed['psf_pa'] = True # Do not rotate PSF "
   ]
  },
  {
   "cell_type": "code",
   "execution_count": null,
   "id": "national-survival",
   "metadata": {
    "scrolled": true
   },
   "outputs": [],
   "source": [
    "# PSF model \n",
    "psf_model"
   ]
  },
  {
   "cell_type": "markdown",
   "id": "protecting-cathedral",
   "metadata": {},
   "source": [
    "### Fit PSFConvolvedImageModel Model"
   ]
  },
  {
   "cell_type": "code",
   "execution_count": null,
   "id": "governing-right",
   "metadata": {},
   "outputs": [],
   "source": [
    "fitted_psf_model, _ = fit_model(\n",
    "    target_zoom, psf_model,\n",
    "    maxiter=10000,\n",
    "    epsilon=1.4901161193847656e-08,\n",
    "    acc=1e-09,\n",
    ")\n",
    "\n",
    "fitted_psf_model_image = model_to_image(fitted_psf_model, size=mid*2)\n",
    "\n",
    "plt.imshow(target_zoom_raw_image-fitted_psf_model_image, vmax=vmax, vmin=vmin)\n",
    "plt.title(\"model_psf_image\")\n",
    "plt.show()\n"
   ]
  },
  {
   "cell_type": "code",
   "execution_count": null,
   "id": "empirical-sharing",
   "metadata": {},
   "outputs": [],
   "source": [
    "plot_fit(target_zoom_raw_image, fitted_psf_model, vmax=vmax, vmin=vmin);"
   ]
  }
 ],
 "metadata": {
  "kernelspec": {
   "display_name": "Python 3 (ipykernel)",
   "language": "python",
   "name": "python3"
  },
  "language_info": {
   "codemirror_mode": {
    "name": "ipython",
    "version": 3
   },
   "file_extension": ".py",
   "mimetype": "text/x-python",
   "name": "python",
   "nbconvert_exporter": "python",
   "pygments_lexer": "ipython3",
   "version": "3.9.0"
  }
 },
 "nbformat": 4,
 "nbformat_minor": 5
}
